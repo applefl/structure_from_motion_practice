{
 "cells": [
  {
   "cell_type": "code",
   "execution_count": null,
   "metadata": {},
   "outputs": [],
   "source": [
    "#!pip uninstall opencv-python\n",
    "#!pip install opencv-contrib-python\n",
    "#!conda install -c michael_wild opencv-contrib"
   ]
  },
  {
   "cell_type": "code",
   "execution_count": null,
   "metadata": {},
   "outputs": [],
   "source": [
    "%matplotlib notebook\n",
    "\n",
    "import cv2\n",
    "import matplotlib.pyplot as plt\n",
    "import signal\n",
    "\n",
    "# Signal handler which ensures that video source is released correctly when interrupted\n",
    "def signal_handler(signal, frame):\n",
    "    # KeyboardInterrupt detected, exiting\n",
    "    global is_interrupted\n",
    "    is_interrupted = True\n",
    "signal.signal(signal.SIGINT, signal_handler)\n",
    "is_interrupted = False\n",
    "\n",
    "# Video source\n",
    "source = cv2.VideoCapture(0)\n",
    "\n",
    "# Keypoint detection algorithm\n",
    "kpalgo = cv2.xfeatures2d.SIFT_create()\n",
    "\n",
    "#Interactive mode on. Default is on, but in off mode will create repeated figures\n",
    "plt.ion() \n",
    "\n",
    "if source.isOpened():\n",
    "    is_capturing, frame = source.read()\n",
    "    frame = cv2.cvtColor(frame, cv2.COLOR_BGR2RGB)    # makes the blues image look real colored\n",
    "    \n",
    "    # Craete figure and create preview image\n",
    "    fig,ax = plt.subplots(1,1)\n",
    "    preview_window = plt.imshow(frame)    \n",
    "else:\n",
    "    # Failed open source\n",
    "    is_capturing = False\n",
    "\n",
    "\n",
    "while is_capturing:\n",
    "    is_capturing, img = source.read()\n",
    "    \n",
    "    # Convert for matplotlib color format\n",
    "    # img = cv2.cvtColor(img, cv2.COLOR_BGR2RGB)\n",
    "    \n",
    "    gray = cv2.cvtColor(img,cv2.COLOR_BGR2GRAY)\n",
    "    kp = kpalgo.detect(gray,None)\n",
    "    \n",
    "    # Draw keypoints to image\n",
    "    img_kp = cv2.drawKeypoints(gray,kp,None)\n",
    "    \n",
    "    # Draw image\n",
    "    preview_window.set_data(img_kp)\n",
    "    \n",
    "    # Update canvas. Without the command the image is not updated in jupyter notebook\n",
    "    fig.canvas.draw()\n",
    "    \n",
    "    if is_interrupted:\n",
    "        source.release()\n",
    "        break"
   ]
  },
  {
   "cell_type": "code",
   "execution_count": null,
   "metadata": {},
   "outputs": [],
   "source": []
  }
 ],
 "metadata": {
  "kernelspec": {
   "display_name": "Python 3",
   "language": "python",
   "name": "python3"
  },
  "language_info": {
   "codemirror_mode": {
    "name": "ipython",
    "version": 3
   },
   "file_extension": ".py",
   "mimetype": "text/x-python",
   "name": "python",
   "nbconvert_exporter": "python",
   "pygments_lexer": "ipython3",
   "version": "3.6.5"
  }
 },
 "nbformat": 4,
 "nbformat_minor": 2
}
